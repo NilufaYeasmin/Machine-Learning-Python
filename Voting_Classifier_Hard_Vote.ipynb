{
 "cells": [
  {
   "cell_type": "markdown",
   "metadata": {},
   "source": [
    "# Implementation of voting classifier with 3 base learners from sklearn library: LogisticRegression, DecisionTreeClassifier, GaussianNB."
   ]
  },
  {
   "cell_type": "code",
   "execution_count": 430,
   "metadata": {},
   "outputs": [],
   "source": [
    "from sklearn.linear_model import LogisticRegression\n",
    "from sklearn.model_selection import train_test_split\n",
    "from sklearn.preprocessing import StandardScaler\n",
    "from sklearn.metrics import confusion_matrix, accuracy_score\n",
    "from collections import Counter\n",
    "from sklearn.ensemble import BaggingClassifier\n",
    "from sklearn.ensemble import VotingClassifier\n",
    "from sklearn.tree import DecisionTreeClassifier\n",
    "from sklearn.linear_model import LogisticRegression\n",
    "from sklearn.naive_bayes import GaussianNB\n",
    "import numpy as np\n",
    "import pandas as pd"
   ]
  },
  {
   "cell_type": "markdown",
   "metadata": {},
   "source": [
    "# Drink Quality Dataset\n",
    "Drink Quality Dataset contains of 700 samples, 11 features and 1 column for 4 quality class labels. https://archive.ics.uci.edu/ml/datasets/wine+quality"
   ]
  },
  {
   "cell_type": "code",
   "execution_count": 449,
   "metadata": {},
   "outputs": [
    {
     "data": {
      "text/plain": [
       "(700, 12)"
      ]
     },
     "execution_count": 449,
     "metadata": {},
     "output_type": "execute_result"
    }
   ],
   "source": [
    "df= pd.read_csv(\"F:\\\\Data Science MSC\\\\Winter 2020\\\\Assignment3\\\\drink_quality.csv\")\n",
    "df.shape\n",
    "df.head()\n",
    "df.shape\n"
   ]
  },
  {
   "cell_type": "code",
   "execution_count": 447,
   "metadata": {},
   "outputs": [
    {
     "data": {
      "text/plain": [
       "fixed acidity           False\n",
       "volatile acidity        False\n",
       "citric acid             False\n",
       "residual sugar          False\n",
       "chlorides               False\n",
       "free sulfur dioxide     False\n",
       "total sulfur dioxide    False\n",
       "density                 False\n",
       "pH                      False\n",
       "sulphates               False\n",
       "alcohol                 False\n",
       "quality                 False\n",
       "dtype: bool"
      ]
     },
     "execution_count": 447,
     "metadata": {},
     "output_type": "execute_result"
    }
   ],
   "source": [
    "df.quality.unique()\n",
    "df.isnull().any()"
   ]
  },
  {
   "cell_type": "code",
   "execution_count": 432,
   "metadata": {},
   "outputs": [],
   "source": [
    "def prepare_train_test_data(input_dataframe):\n",
    "    train_data, test_data = train_test_split(input_dataframe, test_size=0.2)    \n",
    "    return train_data, test_data"
   ]
  },
  {
   "cell_type": "code",
   "execution_count": 433,
   "metadata": {},
   "outputs": [],
   "source": [
    "def prepare_list_data(unformatted_data):\n",
    "    data_list = []\n",
    "    for i in range(len(unformatted_data)):\n",
    "        data_list.append(list(unformatted_data[i]))\n",
    "    return data_list"
   ]
  },
  {
   "cell_type": "markdown",
   "metadata": {},
   "source": [
    "## MyHardVoting used for Voting Classifier "
   ]
  },
  {
   "cell_type": "code",
   "execution_count": 359,
   "metadata": {},
   "outputs": [],
   "source": [
    "#MyHardVoting used for myVotingClassifier\n",
    "def myHardVoting(prediction_data_list):\n",
    "    n_estimators = len(prediction_data_list)\n",
    "    num_test_sample = len(prediction_data_list[0])\n",
    "    \n",
    "    y_pred = []\n",
    "    for i in range(num_test_sample):\n",
    "        temp_y_list = []\n",
    "        for j in range(n_estimators):\n",
    "            estimator_pred_list = prediction_data_list[j]\n",
    "            #print(estimator_pred_list)\n",
    "            temp_y_list.append(estimator_pred_list[i])\n",
    "        #print(temp_y_list) #all posible outcome        \n",
    "        major_vote = Counter(temp_y_list).most_common(1)[0][0]\n",
    "        y_pred.append(major_vote)\n",
    "    return y_pred"
   ]
  },
  {
   "cell_type": "code",
   "execution_count": 361,
   "metadata": {},
   "outputs": [],
   "source": [
    "def calculate_accuracy(y_test, y_pred):\n",
    "    return  (accuracy_score(y_test, y_pred))*100.0"
   ]
  },
  {
   "cell_type": "code",
   "execution_count": 435,
   "metadata": {},
   "outputs": [],
   "source": [
    "def myVotingClassfier(model_list, scaled_x_train, scaled_x_test, y_train, y_test, voting='hard'):    \n",
    "    prediction_list = []\n",
    "    for model_tuple in model_list:\n",
    "        model = model_tuple[1]\n",
    "        model.fit(scaled_x_train, y_train)\n",
    "        y_pred = model.predict(scaled_x_test)\n",
    "        prediction_list.append(list(y_pred))\n",
    "        #acc = accuracy_score(y_pred, y_test)\n",
    "        #model_accuracy= acc*100\n",
    "        #print(f\"{model_tuple[0]}'s accuracy: {model_accuracy}\")\n",
    "    y_pred = myHardVoting(prediction_list) #Use Hard Voting, as same used for my Bagging Classifier       \n",
    "    return y_pred"
   ]
  },
  {
   "cell_type": "code",
   "execution_count": 443,
   "metadata": {},
   "outputs": [
    {
     "name": "stdout",
     "output_type": "stream",
     "text": [
      "Actual result :  [4, 5, 5, 4, 5, 5, 4, 5, 4, 4, 5, 5, 4, 4, 7, 7, 4, 7, 4, 8, 8, 8, 5, 7, 7, 5, 8, 8, 8, 4, 4, 5, 5, 4, 5, 5, 5, 5, 4, 4, 4, 8, 7, 5, 4, 4, 7, 5, 4, 8, 5, 5, 5, 4, 7, 4, 4, 8, 5, 7, 7, 8, 4, 5, 8, 7, 8, 8, 4, 5, 8, 7, 8, 7, 5, 5, 4, 7, 5, 4, 5, 8, 7, 8, 8, 7, 8, 7, 4, 8, 8, 7, 7, 4, 8, 5, 7, 5, 4, 8, 7, 5, 4, 4, 7, 8, 4, 8, 5, 8, 8, 8, 8, 5, 4, 5, 5, 8, 7, 8, 5, 8, 4, 4, 7, 7, 7, 8, 5, 5, 7, 8, 4, 8, 5, 7, 4, 5, 4, 8]\n",
      "\n",
      "\n",
      "Predicted result using myVotingClassifier with hard voting:  [7, 4, 5, 7, 8, 7, 8, 7, 4, 8, 5, 5, 8, 4, 5, 5, 5, 5, 4, 8, 4, 7, 4, 8, 5, 7, 4, 5, 7, 5, 8, 7, 7, 4, 5, 7, 8, 4, 7, 7, 7, 4, 4, 7, 5, 4, 8, 7, 8, 5, 5, 4, 7, 4, 5, 7, 8, 7, 8, 4, 5, 4, 5, 8, 8, 4, 7, 8, 5, 4, 5, 4, 7, 8, 5, 5, 7, 8, 5, 8, 4, 7, 8, 5, 4, 7, 8, 8, 5, 4, 7, 5, 4, 5, 4, 4, 8, 8, 4, 4, 5, 4, 8, 7, 5, 4, 5, 8, 8, 4, 7, 8, 7, 8, 8, 5, 7, 5, 4, 5, 7, 4, 8, 4, 8, 8, 5, 7, 4, 5, 8, 5, 4, 4, 8, 8, 7, 5, 7, 7]\n",
      "MyVotingClassifier Accuracy : 64.28571428571429\n",
      "\n",
      "\n"
     ]
    }
   ],
   "source": [
    "###Question 2(b) : Voting Classifier\n",
    "train_data, test_data = prepare_train_test_data(df)\n",
    "\n",
    "x_train = train_data.iloc[:, :-1]\n",
    "y_train = train_data.iloc[:,-1]\n",
    "x_test = test_data.iloc[:, :-1]\n",
    "y_test = test_data.iloc[:,-1]\n",
    "\n",
    "scaler = StandardScaler()\n",
    "scaled_x_train = scaler.fit_transform(x_train) #array\n",
    "scaled_x_test = scaler.transform(x_test) #array\n",
    "\n",
    "print(\"Actual result : \", y_test_list)\n",
    "print(\"\\n\")\n",
    "\n",
    "#3 base learners from sklearn library\n",
    "model_list = [('Decision tree', DecisionTreeClassifier(max_depth=3)),\n",
    "        ('Logistic regression', LogisticRegression(solver='liblinear')),\n",
    "        ('Naive bayes classifier', GaussianNB())]\n",
    "\n",
    "#Using myVotingClassifier\n",
    "y_pred = myVotingClassfier(model_list, scaled_x_train, scaled_x_test, y_train, y_test, voting='hard')\n",
    "print(\"Predicted result using myVotingClassifier with hard voting: \", list(y_test))\n",
    "    \n",
    "accuracy_myvoting_classifier = calculate_accuracy( y_pred,list(y_test))\n",
    "print(\"MyVotingClassifier Accuracy :\", accuracy_myvoting_classifier)\n",
    "print(\"\\n\")"
   ]
  },
  {
   "cell_type": "markdown",
   "metadata": {},
   "source": [
    "## Using sklearn library function VotingClassifier"
   ]
  },
  {
   "cell_type": "code",
   "execution_count": 444,
   "metadata": {},
   "outputs": [
    {
     "name": "stdout",
     "output_type": "stream",
     "text": [
      "Predicted result using library Voting Classifer:  [8 4 5 8 8 7 8 7 4 8 4 5 8 4 5 5 8 5 5 8 7 7 4 8 5 8 8 5 7 7 7 8 8 8 5 7 4\n",
      " 5 7 8 8 7 4 8 5 4 8 7 8 5 7 4 5 7 5 7 8 7 8 4 7 4 5 8 8 4 5 4 5 4 4 4 7 8\n",
      " 5 5 4 5 5 5 4 8 8 4 4 7 8 8 5 5 7 7 5 5 4 4 5 8 4 4 7 4 8 7 5 4 4 8 8 5 8\n",
      " 8 5 8 8 5 8 5 5 4 8 4 8 4 8 8 4 7 5 5 8 5 4 4 8 8 7 5 8 7]\n",
      "Library VotingClassifier Accuracy: 66.42857142857143\n"
     ]
    }
   ],
   "source": [
    "#Using library VotingClassifier\n",
    "voting_clf = VotingClassifier(model_list, voting='hard')\n",
    "voting_clf.fit(scaled_x_train, y_train)\n",
    "y_pred = voting_clf.predict(scaled_x_test)\n",
    "\n",
    "print(\"Predicted result using library Voting Classifer: \", y_pred)\n",
    "accuracy_library_votingClassifier = calculate_accuracy(y_test, y_pred)\n",
    "print(\"Library VotingClassifier Accuracy:\", accuracy_library_votingClassifier)"
   ]
  },
  {
   "cell_type": "code",
   "execution_count": null,
   "metadata": {},
   "outputs": [],
   "source": []
  }
 ],
 "metadata": {
  "kernelspec": {
   "display_name": "Python 3",
   "language": "python",
   "name": "python3"
  },
  "language_info": {
   "codemirror_mode": {
    "name": "ipython",
    "version": 3
   },
   "file_extension": ".py",
   "mimetype": "text/x-python",
   "name": "python",
   "nbconvert_exporter": "python",
   "pygments_lexer": "ipython3",
   "version": "3.7.7"
  }
 },
 "nbformat": 4,
 "nbformat_minor": 4
}

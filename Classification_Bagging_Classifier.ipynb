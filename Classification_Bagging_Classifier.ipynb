{
 "cells": [
  {
   "cell_type": "markdown",
   "metadata": {},
   "source": [
    "## Implementation of bagging classifier with Logistic Regression as the base learner and 10 estimators. "
   ]
  },
  {
   "cell_type": "markdown",
   "metadata": {},
   "source": [
    "# Drink Quality Dataset\n",
    "Drink Quality Dataset contains of 700 samples, 11 features and 1 column for 4 quality class labels. https://archive.ics.uci.edu/ml/datasets/wine+quality"
   ]
  },
  {
   "cell_type": "code",
   "execution_count": 430,
   "metadata": {},
   "outputs": [],
   "source": [
    "from sklearn.linear_model import LogisticRegression\n",
    "from sklearn.model_selection import train_test_split\n",
    "from sklearn.preprocessing import StandardScaler\n",
    "from sklearn.metrics import confusion_matrix, accuracy_score\n",
    "from collections import Counter\n",
    "from sklearn.ensemble import BaggingClassifier\n",
    "from sklearn.ensemble import VotingClassifier\n",
    "from sklearn.tree import DecisionTreeClassifier\n",
    "from sklearn.linear_model import LogisticRegression\n",
    "from sklearn.naive_bayes import GaussianNB\n",
    "import numpy as np\n",
    "import pandas as pd"
   ]
  },
  {
   "cell_type": "code",
   "execution_count": 449,
   "metadata": {},
   "outputs": [
    {
     "data": {
      "text/plain": [
       "(700, 12)"
      ]
     },
     "execution_count": 449,
     "metadata": {},
     "output_type": "execute_result"
    }
   ],
   "source": [
    "df= pd.read_csv(\"F:\\\\Data Science MSC\\\\Winter 2020\\\\Assignment3\\\\drink_quality.csv\")\n",
    "df.shape\n",
    "df.head()\n",
    "df.shape\n"
   ]
  },
  {
   "cell_type": "code",
   "execution_count": 447,
   "metadata": {},
   "outputs": [
    {
     "data": {
      "text/plain": [
       "fixed acidity           False\n",
       "volatile acidity        False\n",
       "citric acid             False\n",
       "residual sugar          False\n",
       "chlorides               False\n",
       "free sulfur dioxide     False\n",
       "total sulfur dioxide    False\n",
       "density                 False\n",
       "pH                      False\n",
       "sulphates               False\n",
       "alcohol                 False\n",
       "quality                 False\n",
       "dtype: bool"
      ]
     },
     "execution_count": 447,
     "metadata": {},
     "output_type": "execute_result"
    }
   ],
   "source": [
    "df.quality.unique()\n",
    "df.isnull().any()"
   ]
  },
  {
   "cell_type": "code",
   "execution_count": 432,
   "metadata": {},
   "outputs": [],
   "source": [
    "def prepare_train_test_data(input_dataframe):\n",
    "    train_data, test_data = train_test_split(input_dataframe, test_size=0.2)    \n",
    "    return train_data, test_data"
   ]
  },
  {
   "cell_type": "code",
   "execution_count": 433,
   "metadata": {},
   "outputs": [],
   "source": [
    "def prepare_list_data(unformatted_data):\n",
    "    data_list = []\n",
    "    for i in range(len(unformatted_data)):\n",
    "        data_list.append(list(unformatted_data[i]))\n",
    "    return data_list"
   ]
  },
  {
   "cell_type": "markdown",
   "metadata": {},
   "source": [
    "## Sample Data prepare for Bagging Classifier"
   ]
  },
  {
   "cell_type": "code",
   "execution_count": 445,
   "metadata": {},
   "outputs": [],
   "source": [
    "def bootstrap_sample(train_data):\n",
    "    max_samples = train_data.shape[0]\n",
    "    sampled_train_data = train_data.sample(n=max_samples,replace=True)\n",
    "    #sampled_train_data.to_csv(r'F:\\\\Data Science MSC\\\\Winter 2020\\\\Assignment3\\\\sampled_data.csv',encoding='utf-8', header='true')\n",
    "        \n",
    "    sampled_data_x_train = sampled_train_data.iloc[:, :-1]\n",
    "    sampled_data_y_train = sampled_train_data.iloc[:,-1]\n",
    "    \n",
    "    \n",
    "    return sampled_data_x_train, sampled_data_y_train"
   ]
  },
  {
   "cell_type": "markdown",
   "metadata": {},
   "source": [
    "## MyHardVoting used for MyBaggingClassifier "
   ]
  },
  {
   "cell_type": "code",
   "execution_count": 359,
   "metadata": {},
   "outputs": [],
   "source": [
    "#MyHardVoting used for both MyBaggingClassifier and myVotingClassifier\n",
    "def myHardVoting(prediction_data_list):\n",
    "    n_estimators = len(prediction_data_list)\n",
    "    num_test_sample = len(prediction_data_list[0])\n",
    "    \n",
    "    y_pred = []\n",
    "    for i in range(num_test_sample):\n",
    "        temp_y_list = []\n",
    "        for j in range(n_estimators):\n",
    "            estimator_pred_list = prediction_data_list[j]\n",
    "            #print(estimator_pred_list)\n",
    "            temp_y_list.append(estimator_pred_list[i])\n",
    "        #print(temp_y_list) #all posible outcome        \n",
    "        major_vote = Counter(temp_y_list).most_common(1)[0][0]\n",
    "        y_pred.append(major_vote)\n",
    "    return y_pred"
   ]
  },
  {
   "cell_type": "code",
   "execution_count": 360,
   "metadata": {},
   "outputs": [],
   "source": [
    "def myBaggingClassifer(base_classifier, num_estimators, use_bootstrap, train_data, test_data):   \n",
    "    x_test = test_data.iloc[:, :-1]\n",
    "    y_test = test_data.iloc[:,-1]\n",
    "\n",
    "    prediction_list = []\n",
    "    if use_bootstrap:\n",
    "        for i in range(num_estimators):\n",
    "            sampled_data_x_train, sampled_data_y_train = bootstrap_sample(train_data)  \n",
    "            #print(sampled_data_x_train)\n",
    "            #print(sampled_data_y_train)\n",
    "            my_model= base_classifier.fit(sampled_data_x_train, sampled_data_y_train)\n",
    "            #X_test_stan = scaler.transform(x_test) #standard scaler\n",
    "            y_pred = my_model.predict(x_test)\n",
    "            #print(list(y_pred))\n",
    "            prediction_list.append(list(y_pred))\n",
    "        #print(prediction_list)\n",
    "        y_pred = myHardVoting(prediction_list)        \n",
    "        return y_pred       \n",
    "    else:\n",
    "        print(\"Bootstrap must be true\")"
   ]
  },
  {
   "cell_type": "code",
   "execution_count": 361,
   "metadata": {},
   "outputs": [],
   "source": [
    "def calculate_accuracy(y_test, y_pred):\n",
    "    return  (accuracy_score(y_test, y_pred))*100.0"
   ]
  },
  {
   "cell_type": "code",
   "execution_count": 366,
   "metadata": {},
   "outputs": [
    {
     "name": "stdout",
     "output_type": "stream",
     "text": [
      "Actual result :  [4, 5, 5, 4, 5, 5, 4, 5, 4, 4, 5, 5, 4, 4, 7, 7, 4, 7, 4, 8, 8, 8, 5, 7, 7, 5, 8, 8, 8, 4, 4, 5, 5, 4, 5, 5, 5, 5, 4, 4, 4, 8, 7, 5, 4, 4, 7, 5, 4, 8, 5, 5, 5, 4, 7, 4, 4, 8, 5, 7, 7, 8, 4, 5, 8, 7, 8, 8, 4, 5, 8, 7, 8, 7, 5, 5, 4, 7, 5, 4, 5, 8, 7, 8, 8, 7, 8, 7, 4, 8, 8, 7, 7, 4, 8, 5, 7, 5, 4, 8, 7, 5, 4, 4, 7, 8, 4, 8, 5, 8, 8, 8, 8, 5, 4, 5, 5, 8, 7, 8, 5, 8, 4, 4, 7, 7, 7, 8, 5, 5, 7, 8, 4, 8, 5, 7, 4, 5, 4, 8]\n",
      "\n",
      "\n",
      "Predicted result using myBagging Classifer with Plurality vote :  [4, 5, 8, 8, 5, 5, 4, 5, 4, 4, 5, 7, 4, 4, 8, 5, 5, 7, 4, 7, 8, 7, 5, 7, 8, 5, 8, 5, 8, 7, 4, 4, 7, 4, 5, 7, 4, 5, 4, 4, 4, 8, 4, 5, 4, 4, 7, 5, 4, 8, 5, 5, 5, 4, 8, 8, 5, 8, 5, 7, 8, 8, 4, 5, 8, 5, 8, 8, 5, 7, 4, 7, 7, 8, 5, 5, 4, 8, 5, 4, 5, 7, 7, 5, 8, 4, 8, 5, 4, 8, 7, 8, 5, 4, 8, 5, 7, 5, 8, 8, 5, 5, 4, 4, 7, 8, 4, 8, 5, 8, 5, 7, 8, 5, 4, 4, 4, 7, 8, 7, 5, 7, 5, 4, 7, 7, 7, 7, 5, 5, 7, 8, 4, 5, 5, 4, 4, 4, 4, 8]\n",
      "My BaggingClassifier Accuracy : 65.0\n",
      "\n",
      "\n"
     ]
    }
   ],
   "source": [
    "###Question 2(a) : Bagging Classifier\n",
    "train_data, test_data = prepare_train_test_data(df)\n",
    "\n",
    "x_train = train_data.iloc[:, :-1]\n",
    "y_train = train_data.iloc[:,-1]\n",
    "x_test = test_data.iloc[:, :-1]\n",
    "y_test = test_data.iloc[:,-1]\n",
    "\n",
    "scaler = StandardScaler()\n",
    "scaled_x_train = scaler.fit_transform(x_train) #array\n",
    "scaled_x_test = scaler.transform(x_test) #array\n",
    "\n",
    "scaled_x_train_list = prepare_list_data(scaled_x_train) #list\n",
    "scaled_x_test_list = prepare_list_data(scaled_x_test)   #list\n",
    "\n",
    "y_train_list = list(y_train) #list\n",
    "y_test_list = list(y_test)  #list\n",
    "\n",
    "scaled_train_data_df = pd.DataFrame(list(zip(scaled_x_train_list, y_train_list))) #df\n",
    "scaled_test_data_df = pd.DataFrame(list(zip(scaled_x_test_list, y_test_list))) #df\n",
    "\n",
    "num_estimators = 10\n",
    "use_bootstrap = True\n",
    "\n",
    "print(\"Actual result : \", y_test_list)\n",
    "print('\\n')\n",
    "\n",
    "#Using myBagging Classifier\n",
    "y_pred = myBaggingClassifer(LogisticRegression(solver='liblinear'), num_estimators, use_bootstrap, train_data, test_data)\n",
    "print(\"Predicted result using myBagging Classifer with Plurality vote : \", y_pred)\n",
    "myBaggingClassifier_accuracy = calculate_accuracy(y_test, y_pred)\n",
    "print(\"My BaggingClassifier Accuracy :\", myBaggingClassifier_accuracy)\n",
    "print('\\n')"
   ]
  },
  {
   "cell_type": "markdown",
   "metadata": {},
   "source": [
    "## Compare Accuracy by Using sklearn library function BaggingClassifier"
   ]
  },
  {
   "cell_type": "code",
   "execution_count": 374,
   "metadata": {},
   "outputs": [
    {
     "name": "stdout",
     "output_type": "stream",
     "text": [
      "Predicted result using library Bagging Classifer:  [4 5 8 8 5 5 4 5 4 4 5 7 4 4 8 5 4 4 4 7 8 7 5 7 8 5 8 7 8 4 4 4 5 4 5 7 5\n",
      " 7 4 4 4 8 7 5 4 4 7 5 4 8 5 5 5 4 8 8 5 8 5 7 7 8 4 5 8 5 8 8 8 5 4 7 7 8\n",
      " 5 5 4 8 5 4 5 7 7 5 8 4 8 5 8 8 7 7 5 4 4 5 7 5 8 8 5 5 4 4 4 8 4 8 5 8 5\n",
      " 7 8 5 4 4 4 7 8 7 5 7 5 4 7 7 5 7 5 5 7 8 4 5 5 7 4 4 4 8]\n",
      "\n",
      "\n",
      "Library BaggingClassifier Accuracy: 67.14285714285714\n"
     ]
    }
   ],
   "source": [
    "#Using Library\n",
    "baglog = BaggingClassifier(LogisticRegression(solver='liblinear'), n_estimators = num_estimators, bootstrap=use_bootstrap)\n",
    "baglog.fit(scaled_x_train, y_train)\n",
    "y_pred = baglog.predict(scaled_x_test)\n",
    "print(\"Predicted result using library Bagging Classifer: \", y_pred)\n",
    "library_accuracy = calculate_accuracy(y_test, y_pred)\n",
    "print(\"\\n\")\n",
    "print(\"Library BaggingClassifier Accuracy:\", library_accuracy)"
   ]
  },
  {
   "cell_type": "code",
   "execution_count": null,
   "metadata": {},
   "outputs": [],
   "source": []
  }
 ],
 "metadata": {
  "kernelspec": {
   "display_name": "Python 3",
   "language": "python",
   "name": "python3"
  },
  "language_info": {
   "codemirror_mode": {
    "name": "ipython",
    "version": 3
   },
   "file_extension": ".py",
   "mimetype": "text/x-python",
   "name": "python",
   "nbconvert_exporter": "python",
   "pygments_lexer": "ipython3",
   "version": "3.7.7"
  }
 },
 "nbformat": 4,
 "nbformat_minor": 4
}
